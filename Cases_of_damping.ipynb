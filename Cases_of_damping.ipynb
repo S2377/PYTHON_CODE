{
  "cells": [
    {
      "cell_type": "markdown",
      "metadata": {
        "id": "view-in-github",
        "colab_type": "text"
      },
      "source": [
        "<a href=\"https://colab.research.google.com/github/S2377/PYTHON_CODE/blob/master/Cases_of_damping.ipynb\" target=\"_parent\"><img src=\"https://colab.research.google.com/assets/colab-badge.svg\" alt=\"Open In Colab\"/></a>"
      ]
    },
    {
      "cell_type": "code",
      "execution_count": null,
      "metadata": {
        "id": "RYeGvs3lmm8x"
      },
      "outputs": [],
      "source": [
        "# Taking input from user\n",
        "a = float(input(''))\n",
        "b = float(input(''))\n",
        "c = float(input(''))\n",
        "x_0 = float(input(''))\n",
        "v_0 = float(input('')) \n",
        "\n"
      ]
    },
    {
      "cell_type": "code",
      "execution_count": null,
      "metadata": {
        "id": "VR04J1i_yQyN"
      },
      "outputs": [],
      "source": [
        "t=[]\n",
        "for i in range(1001):\n",
        "  t.append(i/100)\n"
      ]
    },
    {
      "cell_type": "code",
      "execution_count": null,
      "metadata": {
        "id": "8Ry3iYMOn-19"
      },
      "outputs": [],
      "source": [
        "import math\n",
        "# checkig tpye of damping \n",
        "if b**2 - 4*a*c > 0 :                      # Discreminant of quadritic equation\n",
        "  print('This is over damping.')\n",
        "  x = []\n",
        "  for i in t:\n",
        "    lam1 = ((-b + math.sqrt(b**2-4*a*c))/2*a)   # first root of quadritic equation\n",
        "    lam2 = ((-b - math.sqrt(b**2-4*a*c))/2*a)   # second root of quadritic equation\n",
        "    d1 = (v_0 - lam2*x_0)/(lam1-lam2)\n",
        "    d2 = (v_0 - lam1*x_0)/(lam2-lam1)\n",
        "    y = d1*math.exp(lam1*t) + d2*math.exp(lam2*t)\n",
        "    x.append(y)\n",
        " "
      ]
    },
    {
      "cell_type": "code",
      "execution_count": null,
      "metadata": {
        "id": "YHS_riCWoSfe"
      },
      "outputs": [],
      "source": [
        "if b**2 - 4*a*c == 0 :\n",
        "  print('This is critical damping.')\n",
        "  x = []\n",
        "  for i in t:\n",
        "    lam1 = (-b/2*a)                      # equal root of quadritic equation\n",
        "    m = v_0/lam1 \n",
        "    y = m*math.exp(lam1*t)\n",
        "    x.append(y)\n",
        "\n"
      ]
    },
    {
      "cell_type": "code",
      "execution_count": null,
      "metadata": {
        "colab": {
          "base_uri": "https://localhost:8080/"
        },
        "id": "LQFBs7HCosXo",
        "outputId": "3f0ed763-1e71-413e-b07e-b686f770d64f"
      },
      "outputs": [
        {
          "output_type": "stream",
          "name": "stdout",
          "text": [
            "This is under damping.\n"
          ]
        }
      ],
      "source": [
        "if b**2 - 4*a*c < 0 :\n",
        "  print('This is under damping.')\n",
        "  x = []\n",
        "  for i in t:\n",
        "    alpha = -b/2*a\n",
        "    beta = math.sqrt(abs((b**2/4*a**2)-(c/a)))\n",
        "    m = math.exp(alpha*i)*(math.cos(beta*i)*x_0 + math.sin(beta*i)*((v_0 + x_0*alpha)/beta))\n",
        "    x.append(m)\n",
        " "
      ]
    },
    {
      "cell_type": "code",
      "execution_count": null,
      "metadata": {
        "id": "t1ZNnT7opV_3"
      },
      "outputs": [],
      "source": [
        "import plotly.express as px\n",
        "import math\n",
        "fig = px.line(x=t,y= x)\n",
        "fig.show()\n"
      ]
    },
    {
      "cell_type": "code",
      "execution_count": null,
      "metadata": {
        "id": "v8nqja2Hr-WQ"
      },
      "outputs": [],
      "source": []
    },
    {
      "cell_type": "code",
      "execution_count": null,
      "metadata": {
        "id": "mtDsE_yX05LM"
      },
      "outputs": [],
      "source": []
    }
  ],
  "metadata": {
    "colab": {
      "provenance": [],
      "authorship_tag": "ABX9TyPTO+egr/EpIq0w3IgkTI76",
      "include_colab_link": true
    },
    "kernelspec": {
      "display_name": "Python 3",
      "name": "python3"
    },
    "language_info": {
      "name": "python"
    }
  },
  "nbformat": 4,
  "nbformat_minor": 0
}